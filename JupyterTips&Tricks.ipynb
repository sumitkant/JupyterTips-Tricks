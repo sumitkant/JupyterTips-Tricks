{
 "cells": [
  {
   "cell_type": "markdown",
   "metadata": {
    "slideshow": {
     "slide_type": "-"
    }
   },
   "source": [
    "# Jupyter Tips and Tricks\n",
    "\n",
    "<hr>\n",
    "\n",
    "### by Sumit Kant"
   ]
  },
  {
   "cell_type": "markdown",
   "metadata": {
    "slideshow": {
     "slide_type": "slide"
    }
   },
   "source": [
    "## 1. Changing Jupyter's Default Directory\n",
    "\n",
    "Use the jupyter notebook config file:\n",
    "\n",
    "* Open cmd (or Anaconda Prompt) and run jupyter notebook --generate-config. This writes a file to `C:\\Users\\username\\.jupyter\\jupyter_notebook_config.py.`\n",
    "\n",
    "* Browse to the file location and open it in an Editor\n",
    "\n",
    "* Search for the following line in the file: `#c.NotebookApp.notebook_dir = ''`\n",
    "\n",
    "* Replace by `c.NotebookApp.notebook_dir = '/the/path/to/home/folder/'`. \n",
    "\n",
    "    * Make sure you use forward slashes in your path and use `/home/user/` instead of `~/` for your home directory, backslashes could be used if placed in double quotes even if folder name contains spaces as such :  `\"D:\\yourUserName\\Any Folder\\More Folders\\\"`\n",
    "\n",
    "* Remove the # at the beginning of the line to allow the line to execute"
   ]
  },
  {
   "cell_type": "markdown",
   "metadata": {
    "slideshow": {
     "slide_type": "slide"
    }
   },
   "source": [
    "## 2. Jupyter Themes\n",
    "\n",
    "This is easy to do using the jupyter-themes package by Kyle Dunovan. You may be able to install it using conda. Otherwise, you will need to use pip.\n",
    "\n",
    "* Install it with conda: `conda install jupyterthemes`\n",
    "* or pip : `pip install jupyterthemes`\n",
    "* Then change your theme with : `jt -t chesterish`\n",
    "* To load the chesterish theme or any other. Finally, reload the page. The docs and source code are here: https://github.com/dunovank/jupyter-themes\n"
   ]
  },
  {
   "cell_type": "markdown",
   "metadata": {
    "slideshow": {
     "slide_type": "slide"
    }
   },
   "source": [
    "## 3. Changing Jupter Notebook CSS\n",
    "\n",
    "1. You can hover to .ipython folder (i.e. you can type ``` ipython locate``` in your terminal/bash to see where is your ipython is located)\n",
    "\n",
    "2. Then, in .ipython, you will see profile_default directory which is the default one. This directory will have `static/custom/custom.css` file located.\n",
    "\n",
    "3. You can now apply change to this `custom.css` file. \n",
    "\n",
    "### Current Settings -  `custom css`\n",
    "\n",
    "```\n",
    "/*This file contains any manual css for this page that needs to override the global styles.\n",
    "This is only required when different pages style the same element differently. This is just\n",
    "a hack to deal with our current css styles and no new styling should be added in this file.*/\n",
    "\n",
    "#ipython-main-app {position: relative;}\n",
    "#jupyter-main-app {position: relative;}\n",
    "\n",
    "h1,h2,h3,h4,h5 { font-family : 'Calibri Light';}\n",
    "\n",
    "p,a,ol,ul{\n",
    "    font-family: 'Calibri Light';\n",
    "    font-size: 12pt;\n",
    "    line-height: 1.4 ;\n",
    "}\n",
    "\n",
    "code, .cm-variable-2, .cm-header, .CodeMirror pre{\n",
    "    font-family: 'B612 Mono', monospace;\n",
    "    font-size:10pt;\n",
    "}\n",
    "\n",
    "p.code{font-size: 10pt;}\n",
    "```"
   ]
  },
  {
   "cell_type": "code",
   "execution_count": null,
   "metadata": {},
   "outputs": [],
   "source": []
  }
 ],
 "metadata": {
  "celltoolbar": "Slideshow",
  "kernelspec": {
   "display_name": "Python 3",
   "language": "python",
   "name": "python3"
  },
  "language_info": {
   "codemirror_mode": {
    "name": "ipython",
    "version": 3
   },
   "file_extension": ".py",
   "mimetype": "text/x-python",
   "name": "python",
   "nbconvert_exporter": "python",
   "pygments_lexer": "ipython3",
   "version": "3.7.1"
  }
 },
 "nbformat": 4,
 "nbformat_minor": 2
}
